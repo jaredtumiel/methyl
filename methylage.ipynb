{
  "nbformat": 4,
  "nbformat_minor": 0,
  "metadata": {
    "colab": {
      "name": "methylage.ipynb",
      "provenance": []
    },
    "kernelspec": {
      "name": "python3",
      "display_name": "Python 3"
    },
    "language_info": {
      "name": "python"
    }
  },
  "cells": [
    {
      "cell_type": "code",
      "execution_count": 2,
      "metadata": {
        "colab": {
          "base_uri": "https://localhost:8080/"
        },
        "id": "GkxMUpAkE6Lg",
        "outputId": "5eb8a651-e536-4850-e6bb-b2846598f720"
      },
      "outputs": [
        {
          "output_type": "stream",
          "name": "stdout",
          "text": [
            "--2022-06-20 17:10:34--  https://zenodo.org/record/2545213/files/train_rows.csv\n",
            "Resolving zenodo.org (zenodo.org)... 137.138.76.77\n",
            "Connecting to zenodo.org (zenodo.org)|137.138.76.77|:443... connected.\n",
            "HTTP request sent, awaiting response... 200 OK\n",
            "Length: 16414 (16K) [text/plain]\n",
            "Saving to: ‘train_rows.csv.1’\n",
            "\n",
            "train_rows.csv.1    100%[===================>]  16.03K  --.-KB/s    in 0s      \n",
            "\n",
            "2022-06-20 17:10:36 (224 MB/s) - ‘train_rows.csv.1’ saved [16414/16414]\n",
            "\n",
            "--2022-06-20 17:10:36--  https://zenodo.org/record/2545213/files/test_rows_labels.csv\n",
            "Resolving zenodo.org (zenodo.org)... 137.138.76.77\n",
            "Connecting to zenodo.org (zenodo.org)|137.138.76.77|:443... connected.\n",
            "HTTP request sent, awaiting response... 200 OK\n",
            "Length: 8252 (8.1K) [text/plain]\n",
            "Saving to: ‘test_rows_labels.csv’\n",
            "\n",
            "test_rows_labels.cs 100%[===================>]   8.06K  --.-KB/s    in 0s      \n",
            "\n",
            "2022-06-20 17:10:37 (103 MB/s) - ‘test_rows_labels.csv’ saved [8252/8252]\n",
            "\n",
            "--2022-06-20 17:10:37--  https://zenodo.org/record/2545213/files/test_rows.csv\n",
            "Resolving zenodo.org (zenodo.org)... 137.138.76.77\n",
            "Connecting to zenodo.org (zenodo.org)|137.138.76.77|:443... connected.\n",
            "HTTP request sent, awaiting response... 200 OK\n",
            "Length: 7936 (7.8K) [text/plain]\n",
            "Saving to: ‘test_rows.csv’\n",
            "\n",
            "test_rows.csv       100%[===================>]   7.75K  --.-KB/s    in 0s      \n",
            "\n",
            "2022-06-20 17:10:39 (517 MB/s) - ‘test_rows.csv’ saved [7936/7936]\n",
            "\n"
          ]
        }
      ],
      "source": [
        "!wget https://zenodo.org/record/2545213/files/train_rows.csv\n",
        "!wget https://zenodo.org/record/2545213/files/test_rows_labels.csv\n",
        "!wget https://zenodo.org/record/2545213/files/test_rows.csv"
      ]
    },
    {
      "cell_type": "code",
      "source": [
        "import pandas as pd\n",
        "from sklearn.metrics import r2_score\n",
        "from sklearn.linear_model import ElasticNet"
      ],
      "metadata": {
        "id": "vByoBwFSGJSj"
      },
      "execution_count": 21,
      "outputs": []
    },
    {
      "cell_type": "code",
      "source": [
        "df = pd.read_csv(\"train_rows.csv\", sep='\\t')\n",
        "\n",
        "df.info()"
      ],
      "metadata": {
        "colab": {
          "base_uri": "https://localhost:8080/"
        },
        "id": "SkMt792uG9KW",
        "outputId": "b40680a3-2726-4b10-840c-201613b00c78"
      },
      "execution_count": 23,
      "outputs": [
        {
          "output_type": "stream",
          "name": "stdout",
          "text": [
            "<class 'pandas.core.frame.DataFrame'>\n",
            "RangeIndex: 208 entries, 0 to 207\n",
            "Data columns (total 14 columns):\n",
            " #   Column     Non-Null Count  Dtype  \n",
            "---  ------     --------------  -----  \n",
            " 0   RPA2_3     208 non-null    float64\n",
            " 1   ZYG11A_4   208 non-null    float64\n",
            " 2   F5_2       208 non-null    float64\n",
            " 3   HOXC4_1    208 non-null    float64\n",
            " 4   NKIRAS2_2  208 non-null    float64\n",
            " 5   MEIS1_1    208 non-null    float64\n",
            " 6   SAMD10_2   208 non-null    float64\n",
            " 7   GRM2_9     208 non-null    float64\n",
            " 8   TRIM59_5   208 non-null    float64\n",
            " 9   LDB2_3     208 non-null    float64\n",
            " 10  ELOVL2_6   208 non-null    float64\n",
            " 11  DDO_1      208 non-null    float64\n",
            " 12  KLF14_2    208 non-null    float64\n",
            " 13  Age        208 non-null    int64  \n",
            "dtypes: float64(13), int64(1)\n",
            "memory usage: 22.9 KB\n"
          ]
        }
      ]
    },
    {
      "cell_type": "code",
      "source": [
        "df.head()"
      ],
      "metadata": {
        "colab": {
          "base_uri": "https://localhost:8080/",
          "height": 206
        },
        "id": "gXBhE8vnH1oX",
        "outputId": "ab7449c9-d45d-46e7-d2cb-03f0e4eb2aa4"
      },
      "execution_count": 24,
      "outputs": [
        {
          "output_type": "execute_result",
          "data": {
            "text/plain": [
              "   RPA2_3  ZYG11A_4   F5_2  HOXC4_1  NKIRAS2_2  MEIS1_1  SAMD10_2  GRM2_9  \\\n",
              "0   52.36     11.95  47.48    36.08      35.10    70.16     43.46   23.31   \n",
              "1   59.44     21.49  41.19    39.51      30.15    58.90     27.73   53.05   \n",
              "2   67.84     17.43  38.29    47.76      21.82    43.83     23.28   37.69   \n",
              "3   67.68     19.64  30.53    43.83      22.08    31.06     30.25   44.54   \n",
              "4   70.51     30.56  31.76    69.47      20.55    21.64     26.18   68.05   \n",
              "\n",
              "   TRIM59_5  LDB2_3  ELOVL2_6  DDO_1  KLF14_2  Age  \n",
              "0     33.64   74.44     36.12  70.65     2.46   20  \n",
              "1     35.94   66.46     45.35  54.23     1.77   29  \n",
              "2     47.76   54.00     59.20  42.77     2.00   49  \n",
              "3     53.88   31.94     64.33  14.77     5.44   67  \n",
              "4     51.74   48.22     71.09  53.04     4.48   65  "
            ],
            "text/html": [
              "\n",
              "  <div id=\"df-cb3c5dca-bd59-4b4d-ad6b-4c936857733e\">\n",
              "    <div class=\"colab-df-container\">\n",
              "      <div>\n",
              "<style scoped>\n",
              "    .dataframe tbody tr th:only-of-type {\n",
              "        vertical-align: middle;\n",
              "    }\n",
              "\n",
              "    .dataframe tbody tr th {\n",
              "        vertical-align: top;\n",
              "    }\n",
              "\n",
              "    .dataframe thead th {\n",
              "        text-align: right;\n",
              "    }\n",
              "</style>\n",
              "<table border=\"1\" class=\"dataframe\">\n",
              "  <thead>\n",
              "    <tr style=\"text-align: right;\">\n",
              "      <th></th>\n",
              "      <th>RPA2_3</th>\n",
              "      <th>ZYG11A_4</th>\n",
              "      <th>F5_2</th>\n",
              "      <th>HOXC4_1</th>\n",
              "      <th>NKIRAS2_2</th>\n",
              "      <th>MEIS1_1</th>\n",
              "      <th>SAMD10_2</th>\n",
              "      <th>GRM2_9</th>\n",
              "      <th>TRIM59_5</th>\n",
              "      <th>LDB2_3</th>\n",
              "      <th>ELOVL2_6</th>\n",
              "      <th>DDO_1</th>\n",
              "      <th>KLF14_2</th>\n",
              "      <th>Age</th>\n",
              "    </tr>\n",
              "  </thead>\n",
              "  <tbody>\n",
              "    <tr>\n",
              "      <th>0</th>\n",
              "      <td>52.36</td>\n",
              "      <td>11.95</td>\n",
              "      <td>47.48</td>\n",
              "      <td>36.08</td>\n",
              "      <td>35.10</td>\n",
              "      <td>70.16</td>\n",
              "      <td>43.46</td>\n",
              "      <td>23.31</td>\n",
              "      <td>33.64</td>\n",
              "      <td>74.44</td>\n",
              "      <td>36.12</td>\n",
              "      <td>70.65</td>\n",
              "      <td>2.46</td>\n",
              "      <td>20</td>\n",
              "    </tr>\n",
              "    <tr>\n",
              "      <th>1</th>\n",
              "      <td>59.44</td>\n",
              "      <td>21.49</td>\n",
              "      <td>41.19</td>\n",
              "      <td>39.51</td>\n",
              "      <td>30.15</td>\n",
              "      <td>58.90</td>\n",
              "      <td>27.73</td>\n",
              "      <td>53.05</td>\n",
              "      <td>35.94</td>\n",
              "      <td>66.46</td>\n",
              "      <td>45.35</td>\n",
              "      <td>54.23</td>\n",
              "      <td>1.77</td>\n",
              "      <td>29</td>\n",
              "    </tr>\n",
              "    <tr>\n",
              "      <th>2</th>\n",
              "      <td>67.84</td>\n",
              "      <td>17.43</td>\n",
              "      <td>38.29</td>\n",
              "      <td>47.76</td>\n",
              "      <td>21.82</td>\n",
              "      <td>43.83</td>\n",
              "      <td>23.28</td>\n",
              "      <td>37.69</td>\n",
              "      <td>47.76</td>\n",
              "      <td>54.00</td>\n",
              "      <td>59.20</td>\n",
              "      <td>42.77</td>\n",
              "      <td>2.00</td>\n",
              "      <td>49</td>\n",
              "    </tr>\n",
              "    <tr>\n",
              "      <th>3</th>\n",
              "      <td>67.68</td>\n",
              "      <td>19.64</td>\n",
              "      <td>30.53</td>\n",
              "      <td>43.83</td>\n",
              "      <td>22.08</td>\n",
              "      <td>31.06</td>\n",
              "      <td>30.25</td>\n",
              "      <td>44.54</td>\n",
              "      <td>53.88</td>\n",
              "      <td>31.94</td>\n",
              "      <td>64.33</td>\n",
              "      <td>14.77</td>\n",
              "      <td>5.44</td>\n",
              "      <td>67</td>\n",
              "    </tr>\n",
              "    <tr>\n",
              "      <th>4</th>\n",
              "      <td>70.51</td>\n",
              "      <td>30.56</td>\n",
              "      <td>31.76</td>\n",
              "      <td>69.47</td>\n",
              "      <td>20.55</td>\n",
              "      <td>21.64</td>\n",
              "      <td>26.18</td>\n",
              "      <td>68.05</td>\n",
              "      <td>51.74</td>\n",
              "      <td>48.22</td>\n",
              "      <td>71.09</td>\n",
              "      <td>53.04</td>\n",
              "      <td>4.48</td>\n",
              "      <td>65</td>\n",
              "    </tr>\n",
              "  </tbody>\n",
              "</table>\n",
              "</div>\n",
              "      <button class=\"colab-df-convert\" onclick=\"convertToInteractive('df-cb3c5dca-bd59-4b4d-ad6b-4c936857733e')\"\n",
              "              title=\"Convert this dataframe to an interactive table.\"\n",
              "              style=\"display:none;\">\n",
              "        \n",
              "  <svg xmlns=\"http://www.w3.org/2000/svg\" height=\"24px\"viewBox=\"0 0 24 24\"\n",
              "       width=\"24px\">\n",
              "    <path d=\"M0 0h24v24H0V0z\" fill=\"none\"/>\n",
              "    <path d=\"M18.56 5.44l.94 2.06.94-2.06 2.06-.94-2.06-.94-.94-2.06-.94 2.06-2.06.94zm-11 1L8.5 8.5l.94-2.06 2.06-.94-2.06-.94L8.5 2.5l-.94 2.06-2.06.94zm10 10l.94 2.06.94-2.06 2.06-.94-2.06-.94-.94-2.06-.94 2.06-2.06.94z\"/><path d=\"M17.41 7.96l-1.37-1.37c-.4-.4-.92-.59-1.43-.59-.52 0-1.04.2-1.43.59L10.3 9.45l-7.72 7.72c-.78.78-.78 2.05 0 2.83L4 21.41c.39.39.9.59 1.41.59.51 0 1.02-.2 1.41-.59l7.78-7.78 2.81-2.81c.8-.78.8-2.07 0-2.86zM5.41 20L4 18.59l7.72-7.72 1.47 1.35L5.41 20z\"/>\n",
              "  </svg>\n",
              "      </button>\n",
              "      \n",
              "  <style>\n",
              "    .colab-df-container {\n",
              "      display:flex;\n",
              "      flex-wrap:wrap;\n",
              "      gap: 12px;\n",
              "    }\n",
              "\n",
              "    .colab-df-convert {\n",
              "      background-color: #E8F0FE;\n",
              "      border: none;\n",
              "      border-radius: 50%;\n",
              "      cursor: pointer;\n",
              "      display: none;\n",
              "      fill: #1967D2;\n",
              "      height: 32px;\n",
              "      padding: 0 0 0 0;\n",
              "      width: 32px;\n",
              "    }\n",
              "\n",
              "    .colab-df-convert:hover {\n",
              "      background-color: #E2EBFA;\n",
              "      box-shadow: 0px 1px 2px rgba(60, 64, 67, 0.3), 0px 1px 3px 1px rgba(60, 64, 67, 0.15);\n",
              "      fill: #174EA6;\n",
              "    }\n",
              "\n",
              "    [theme=dark] .colab-df-convert {\n",
              "      background-color: #3B4455;\n",
              "      fill: #D2E3FC;\n",
              "    }\n",
              "\n",
              "    [theme=dark] .colab-df-convert:hover {\n",
              "      background-color: #434B5C;\n",
              "      box-shadow: 0px 1px 3px 1px rgba(0, 0, 0, 0.15);\n",
              "      filter: drop-shadow(0px 1px 2px rgba(0, 0, 0, 0.3));\n",
              "      fill: #FFFFFF;\n",
              "    }\n",
              "  </style>\n",
              "\n",
              "      <script>\n",
              "        const buttonEl =\n",
              "          document.querySelector('#df-cb3c5dca-bd59-4b4d-ad6b-4c936857733e button.colab-df-convert');\n",
              "        buttonEl.style.display =\n",
              "          google.colab.kernel.accessAllowed ? 'block' : 'none';\n",
              "\n",
              "        async function convertToInteractive(key) {\n",
              "          const element = document.querySelector('#df-cb3c5dca-bd59-4b4d-ad6b-4c936857733e');\n",
              "          const dataTable =\n",
              "            await google.colab.kernel.invokeFunction('convertToInteractive',\n",
              "                                                     [key], {});\n",
              "          if (!dataTable) return;\n",
              "\n",
              "          const docLinkHtml = 'Like what you see? Visit the ' +\n",
              "            '<a target=\"_blank\" href=https://colab.research.google.com/notebooks/data_table.ipynb>data table notebook</a>'\n",
              "            + ' to learn more about interactive tables.';\n",
              "          element.innerHTML = '';\n",
              "          dataTable['output_type'] = 'display_data';\n",
              "          await google.colab.output.renderOutput(dataTable, element);\n",
              "          const docLink = document.createElement('div');\n",
              "          docLink.innerHTML = docLinkHtml;\n",
              "          element.appendChild(docLink);\n",
              "        }\n",
              "      </script>\n",
              "    </div>\n",
              "  </div>\n",
              "  "
            ]
          },
          "metadata": {},
          "execution_count": 24
        }
      ]
    },
    {
      "cell_type": "code",
      "source": [
        "x_test = pd.read_csv(\"test_rows.csv\", sep='\\t')\n",
        "y_test = pd.read_csv(\"test_rows_labels.csv\", sep='\\t')"
      ],
      "metadata": {
        "id": "tg5ceLJzJU2_"
      },
      "execution_count": 25,
      "outputs": []
    },
    {
      "cell_type": "code",
      "source": [
        "x_test.head()\n",
        "y_test.head()\n",
        "y_test = y_test['Age']"
      ],
      "metadata": {
        "id": "8WQPhaYoJkYd"
      },
      "execution_count": 32,
      "outputs": []
    },
    {
      "cell_type": "code",
      "source": [
        "x = df.iloc[:,:-1]\n",
        "y = df['Age']\n",
        "\n",
        "#x_train,x_val, y_train, y_val = train_test_split(x,y, test_size = 0.2)"
      ],
      "metadata": {
        "id": "lo3DGts9Ilr6"
      },
      "execution_count": 27,
      "outputs": []
    },
    {
      "cell_type": "code",
      "source": [
        "reg = ElasticNet(alpha=0.001,normalize=True,random_state=33032141)\n",
        "reg.fit(x,y)\n",
        "preds = reg.predict(x_test)\n",
        "preds.shape, y_test.shape\n",
        "score = r2_score(y_test,preds)\n",
        "score"
      ],
      "metadata": {
        "colab": {
          "base_uri": "https://localhost:8080/"
        },
        "id": "jz3ir5vpJLCp",
        "outputId": "ecbe5431-a621-4ec7-85f7-80e3db38ec4e"
      },
      "execution_count": 37,
      "outputs": [
        {
          "output_type": "stream",
          "name": "stderr",
          "text": [
            "/usr/local/lib/python3.7/dist-packages/sklearn/linear_model/_base.py:145: FutureWarning: 'normalize' was deprecated in version 1.0 and will be removed in 1.2.\n",
            "If you wish to scale the data, use Pipeline with a StandardScaler in a preprocessing stage. To reproduce the previous behavior:\n",
            "\n",
            "from sklearn.pipeline import make_pipeline\n",
            "\n",
            "model = make_pipeline(StandardScaler(with_mean=False), ElasticNet())\n",
            "\n",
            "If you wish to pass a sample_weight parameter, you need to pass it as a fit parameter to each step of the pipeline as follows:\n",
            "\n",
            "kwargs = {s[0] + '__sample_weight': sample_weight for s in model.steps}\n",
            "model.fit(X, y, **kwargs)\n",
            "\n",
            "Set parameter alpha to original_alpha * np.sqrt(n_samples) if l1_ratio is 1, and to original_alpha * n_samples if l1_ratio is 0. For other values of l1_ratio, no analytic formula is available.\n",
            "  FutureWarning,\n"
          ]
        },
        {
          "output_type": "execute_result",
          "data": {
            "text/plain": [
              "0.9194509201188321"
            ]
          },
          "metadata": {},
          "execution_count": 37
        }
      ]
    },
    {
      "cell_type": "code",
      "source": [
        ""
      ],
      "metadata": {
        "id": "io-pcnuLK2SN"
      },
      "execution_count": null,
      "outputs": []
    }
  ]
}